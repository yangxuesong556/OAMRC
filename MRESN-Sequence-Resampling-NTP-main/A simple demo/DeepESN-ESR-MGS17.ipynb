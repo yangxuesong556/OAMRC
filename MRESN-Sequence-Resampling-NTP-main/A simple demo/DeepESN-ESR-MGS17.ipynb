{
 "cells": [
  {
   "cell_type": "code",
   "execution_count": null,
   "metadata": {
    "ExecuteTime": {
     "end_time": "2021-10-17T03:06:57.622719Z",
     "start_time": "2021-10-17T03:06:53.881851Z"
    }
   },
   "outputs": [],
   "source": [
    "import ESN as ESN\n",
    "import numpy as np\n",
    "import torch\n",
    "from sklearn.linear_model import Ridge\n",
    "from sklearn.metrics import mean_squared_error"
   ]
  },
  {
   "cell_type": "code",
   "execution_count": null,
   "metadata": {
    "ExecuteTime": {
     "end_time": "2021-10-17T03:07:24.813851Z",
     "start_time": "2021-10-17T03:06:57.645091Z"
    }
   },
   "outputs": [],
   "source": [
    "# This is a demo for DeepESN-LSR with $N_{L}=3$\n",
    "data = np.loadtxt('./data/mackey_glass_t17_original.txt')\n",
    "input_data = data[:-84]\n",
    "label_data = data[84:]\n",
    "input_data = input_data[:6000]\n",
    "label_data = label_data[:6000]\n",
    "total_length = 6000\n",
    "training_length = 4000\n",
    "validation_length = 1000\n",
    "test_length = 1000\n",
    "washout = 400\n",
    "Model_input = torch.Tensor(input_data).unsqueeze(1)\n",
    "Model_target = torch.Tensor(label_data).unsqueeze(1)\n",
    "# Controlling indeces based on $N_{L}^{3}=4$. You can modify this part to your desired $N_{L}^{3}$ following my writing style.\n",
    "L2_a_index = list(range(0,total_length,2))\n",
    "L2_b_index = list(range(1,total_length,2))\n",
    "L3_c_index = list(range(0,total_length,4))\n",
    "L3_d_index = list(range(1,total_length,4))\n",
    "L3_e_index = list(range(2,total_length,4))\n",
    "L3_f_index = list(range(3,total_length,4))\n",
    "total_round = 20\n",
    "reservoir_size = [100]\n",
    "input_scale = [1]\n",
    "lr = [1]\n",
    "spectral_radius =[1]\n",
    "regularization = [1e-6]\n",
    "global_validation = np.zeros((len(input_scale),len(lr),len(spectral_radius),len(regularization)))\n",
    "global_test = np.zeros((len(input_scale),len(lr),len(spectral_radius),len(regularization)))\n",
    "for h in range(len(reservoir_size)):\n",
    "    for i in range(len(input_scale)):\n",
    "        for j in range(len(lr)):\n",
    "            for k in range(len(spectral_radius)):\n",
    "                for l in range(len(regularization)):\n",
    "                    mean_RMSE_validation = []\n",
    "                    mean_RMSE_test = []\n",
    "                    mean_NRMSE_validation = []\n",
    "                    mean_NRMSE_test = []\n",
    "                    mean_MAPE_validation = []\n",
    "                    mean_MAPE_test = []\n",
    "                    mean_MAE_validation = []\n",
    "                    mean_MAE_test = []\n",
    "                    mean_R2_validation = []\n",
    "                    mean_R2_test = []\n",
    "                    for r in range(total_round):\n",
    "                        all_index = list(range(0,6000))\n",
    "                        train_index = list(range(washout,training_length))\n",
    "                        validation_index = list(range(training_length,training_length+validation_length))\n",
    "                        test_index = list(range(training_length+validation_length,training_length+validation_length+test_length))\n",
    "\n",
    "                        esn_layer_1 = ESN.ESN(input = 1,reservoir =reservoir_size[h],sr = spectral_radius[k],density = 0.1,scale_in = input_scale[i],leaking_rate =lr[j],Nepochs=10,eta=1e-3,mu=0,sigma=0.1,threshold=0.1,W_assign='Uniform',Win_assign='Uniform')\n",
    "                        state_L1_list = esn_layer_1(Model_input,h_0 = None, useIP = False)\n",
    "                        state_L1 = ESN.state_transform(state_L1_list)\n",
    "            \n",
    "                        state_L2_a_input = state_L1[L2_a_index]\n",
    "                        state_L2_b_input = state_L1[L2_b_index]\n",
    "                        esn_layer_2_a = ESN.ESN(input = reservoir_size[h],reservoir =reservoir_size[h],sr = spectral_radius[k],density = 0.1,scale_in = input_scale[i],leaking_rate =lr[j],Nepochs=10,eta=1e-3,mu=0,sigma=0.1,threshold=0.1,W_assign='Uniform',Win_assign='Uniform')\n",
    "                        state_L2_a_list = esn_layer_2_a(state_L2_a_input,h_0=None,useIP=False)\n",
    "                        state_L2_a = ESN.state_transform(state_L2_a_list)\n",
    "                        esn_layer_2_b = ESN.ESN(input = reservoir_size[h],reservoir =reservoir_size[h],sr = spectral_radius[k],density = 0.1,scale_in = input_scale[i],leaking_rate =lr[j],Nepochs=10,eta=1e-3,mu=0,sigma=0.1,threshold=0.1,W_assign='Uniform',Win_assign='Uniform')\n",
    "                        state_L2_b_list = esn_layer_2_b(state_L2_b_input,h_0=None,useIP=False)\n",
    "                        state_L2_b = ESN.state_transform(state_L2_b_list)\n",
    "                        state_L2_ab_list = []\n",
    "                        for q in range(int(total_length/2)):\n",
    "                            state_L2_ab_list.append(state_L2_a[q].unsqueeze(0))\n",
    "                            state_L2_ab_list.append(state_L2_b[q].unsqueeze(0))\n",
    "                        state_L2_ab = ESN.state_transform(state_L2_ab_list)\n",
    "                        state_L3_c_input = state_L2_ab[L3_c_index]\n",
    "                        state_L3_d_input = state_L2_ab[L3_d_index]\n",
    "                        state_L3_e_input = state_L2_ab[L3_e_index]\n",
    "                        state_L3_f_input = state_L2_ab[L3_f_index]\n",
    "                        esn_layer_3_c = ESN.ESN(input = reservoir_size[h],reservoir =reservoir_size[h],sr = spectral_radius[k],density = 0.1,scale_in = input_scale[i],leaking_rate =lr[j],Nepochs=10,eta=1e-3,mu=0,sigma=0.1,threshold=0.1,W_assign='Uniform',Win_assign='Uniform')\n",
    "                        state_L3_c_list = esn_layer_3_c(state_L3_c_input,h_0=None,useIP=False)\n",
    "                        state_L3_c = ESN.state_transform(state_L3_c_list)\n",
    "                        esn_layer_3_d = ESN.ESN(input = reservoir_size[h],reservoir =reservoir_size[h],sr = spectral_radius[k],density = 0.1,scale_in = input_scale[i],leaking_rate =lr[j],Nepochs=10,eta=1e-3,mu=0,sigma=0.1,threshold=0.1,W_assign='Uniform',Win_assign='Uniform')\n",
    "                        state_L3_d_list = esn_layer_3_d(state_L3_d_input,h_0=None,useIP=False)\n",
    "                        state_L3_d = ESN.state_transform(state_L3_d_list)\n",
    "                        esn_layer_3_e = ESN.ESN(input = reservoir_size[h],reservoir =reservoir_size[h],sr = spectral_radius[k],density = 0.1,scale_in = input_scale[i],leaking_rate =lr[j],Nepochs=10,eta=1e-3,mu=0,sigma=0.1,threshold=0.1,W_assign='Uniform',Win_assign='Uniform')\n",
    "                        state_L3_e_list = esn_layer_3_e(state_L3_e_input,h_0=None,useIP=False)\n",
    "                        state_L3_e = ESN.state_transform(state_L3_e_list)\n",
    "                        esn_layer_3_f = ESN.ESN(input = reservoir_size[h],reservoir =reservoir_size[h],sr = spectral_radius[k],density = 0.1,scale_in = input_scale[i],leaking_rate =lr[j],Nepochs=10,eta=1e-3,mu=0,sigma=0.1,threshold=0.1,W_assign='Uniform',Win_assign='Uniform')\n",
    "                        state_L3_f_list = esn_layer_3_f(state_L3_f_input,h_0=None,useIP=False)\n",
    "                        state_L3_f = ESN.state_transform(state_L3_f_list)\n",
    "                        state_L3_cdef_list = []\n",
    "                        for q in range(int(total_length/4)):\n",
    "                            state_L3_cdef_list.append(state_L3_c[q,:].unsqueeze(0))\n",
    "                            state_L3_cdef_list.append(state_L3_d[q,:].unsqueeze(0))\n",
    "                            state_L3_cdef_list.append(state_L3_e[q,:].unsqueeze(0))\n",
    "                            state_L3_cdef_list.append(state_L3_f[q,:].unsqueeze(0))\n",
    "                        state_L3_cdef = ESN.state_transform(state_L3_cdef_list)\n",
    "                        state_concat = (torch.cat((state_L1,state_L2_ab,state_L3_cdef),1)).numpy()\n",
    "\n",
    "                        train_input = state_concat[train_index]\n",
    "                        train_target = Model_target[train_index].numpy()\n",
    "                        validation_input = state_concat[validation_index]\n",
    "                        validation_target = Model_target[validation_index].numpy()\n",
    "                        test_input = state_concat[test_index]\n",
    "                        test_target = Model_target[test_index].numpy()\n",
    "                        Regressor = Ridge(alpha=regularization[l]).fit(train_input,train_target)\n",
    "                        pred_train = Regressor.predict(train_input)\n",
    "                        pred_validation = Regressor.predict(validation_input)\n",
    "                        pred_test = Regressor.predict(test_input)\n",
    "                        RMSE_validation = mean_squared_error(validation_target,pred_validation,squared=False)\n",
    "                        RMSE_test = mean_squared_error(test_target,pred_test,squared=False)\n",
    "                        NRMSE_validation = RMSE_validation/np.std(validation_target)\n",
    "                        NRMSE_test = RMSE_test/np.std(test_target)\n",
    "                        mean_RMSE_validation.append(RMSE_validation)\n",
    "                        mean_RMSE_test.append(RMSE_test)\n",
    "                        mean_NRMSE_validation.append(NRMSE_validation)\n",
    "                        mean_NRMSE_test.append(NRMSE_test)\n",
    "                    RMSE_val_mean = np.mean(np.array(mean_RMSE_validation))\n",
    "                    RMSE_val_std = np.std(np.array(mean_RMSE_validation))\n",
    "                    RMSE_test_mean = np.mean(np.array(mean_RMSE_test))\n",
    "                    RMSE_test_std = np.std(np.array(mean_RMSE_test))\n",
    "                    NRMSE_val_mean = np.mean(np.array(mean_NRMSE_validation))\n",
    "                    NRMSE_val_std = np.std(np.array(mean_NRMSE_validation))\n",
    "                    NRMSE_test_mean = np.mean(np.array(mean_NRMSE_test))\n",
    "                    NRMSE_test_std = np.std(np.array(mean_NRMSE_test))\n",
    "                    #You can check these two matrices to monitor the performances."
   ]
  }
 ],
 "metadata": {
  "@webio": {
   "lastCommId": null,
   "lastKernelId": null
  },
  "kernelspec": {
   "display_name": "Python 3",
   "language": "python",
   "name": "python3"
  },
  "language_info": {
   "codemirror_mode": {
    "name": "ipython",
    "version": 3
   },
   "file_extension": ".py",
   "mimetype": "text/x-python",
   "name": "python",
   "nbconvert_exporter": "python",
   "pygments_lexer": "ipython3",
   "version": "3.7.1"
  },
  "varInspector": {
   "cols": {
    "lenName": 16,
    "lenType": 16,
    "lenVar": 40
   },
   "kernels_config": {
    "python": {
     "delete_cmd_postfix": "",
     "delete_cmd_prefix": "del ",
     "library": "var_list.py",
     "varRefreshCmd": "print(var_dic_list())"
    },
    "r": {
     "delete_cmd_postfix": ") ",
     "delete_cmd_prefix": "rm(",
     "library": "var_list.r",
     "varRefreshCmd": "cat(var_dic_list()) "
    }
   },
   "types_to_exclude": [
    "module",
    "function",
    "builtin_function_or_method",
    "instance",
    "_Feature"
   ],
   "window_display": false
  }
 },
 "nbformat": 4,
 "nbformat_minor": 4
}
